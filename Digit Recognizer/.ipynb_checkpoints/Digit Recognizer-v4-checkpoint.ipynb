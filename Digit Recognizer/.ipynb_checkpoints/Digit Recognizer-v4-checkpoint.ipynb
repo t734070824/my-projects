{
 "cells": [
  {
   "metadata": {
    "ExecuteTime": {
     "end_time": "2025-07-24T09:05:14.925307Z",
     "start_time": "2025-07-24T09:05:14.279574Z"
    }
   },
   "cell_type": "code",
   "source": [
    "import pandas as pd\n",
    "import matplotlib.pyplot as plt, matplotlib.image as mpimg\n",
    "from sklearn.model_selection import train_test_split\n",
    "from sklearn import svm\n",
    "%matplotlib inline"
   ],
   "outputs": [],
   "execution_count": 1
  },
  {
   "metadata": {
    "ExecuteTime": {
     "end_time": "2025-07-24T09:10:59.169626Z",
     "start_time": "2025-07-24T09:10:57.450974Z"
    }
   },
   "cell_type": "code",
   "source": [
    "labeled_images = pd.read_csv('train.csv')\n",
    "images = labeled_images.iloc[0:5000, 1:]\n",
    "labels = labeled_images.iloc[0:5000, :1]\n",
    "\n",
    "train_images, test_images, train_labels, test_labels = (\n",
    "    train_test_split(images, labels, test_size=0.8, random_state=0))"
   ],
   "outputs": [],
   "execution_count": 2
  },
  {
   "metadata": {
    "ExecuteTime": {
     "end_time": "2025-07-24T09:13:48.852704Z",
     "start_time": "2025-07-24T09:13:48.773860Z"
    }
   },
   "cell_type": "code",
   "source": [
    "i = 1\n",
    "img = train_images.iloc[i].values\n",
    "img=img.reshape((28,28))\n",
    "plt.imshow(img, cmap='gray')\n",
    "plt.title('Label: {}'.format(train_labels.iloc[i, 0]))\n"
   ],
   "outputs": [
    {
     "data": {
      "text/plain": [
       "Text(0.5, 1.0, 'Label: 0')"
      ]
     },
     "execution_count": 11,
     "metadata": {},
     "output_type": "execute_result"
    }
   ],
   "execution_count": 11
  },
  {
   "metadata": {},
   "cell_type": "code",
   "outputs": [],
   "execution_count": null,
   "source": ""
  }
 ],
 "metadata": {
  "kernelspec": {
   "display_name": "kaggle-20250715",
   "language": "python",
   "name": "python3"
  },
  "language_info": {
   "codemirror_mode": {
    "name": "ipython",
    "version": 3
   },
   "file_extension": ".py",
   "mimetype": "text/x-python",
   "name": "python",
   "nbconvert_exporter": "python",
   "pygments_lexer": "ipython3",
   "version": "3.10.18"
  }
 },
 "nbformat": 4,
 "nbformat_minor": 2
}
